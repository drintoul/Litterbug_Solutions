{
 "cells": [
  {
   "cell_type": "markdown",
   "metadata": {},
   "source": [
    "# Extract_Frames_from_Video.py"
   ]
  },
  {
   "cell_type": "markdown",
   "metadata": {},
   "source": [
    "## Import Python Libraries"
   ]
  },
  {
   "cell_type": "code",
   "execution_count": 1,
   "metadata": {},
   "outputs": [],
   "source": [
    "from tkinter import Tk\n",
    "from tkinter.filedialog import askdirectory\n",
    "\n",
    "import cv2\n",
    "import os\n",
    "import time\n",
    "\n",
    "import sys"
   ]
  },
  {
   "cell_type": "markdown",
   "metadata": {},
   "source": [
    "## Choose_Project_Directory"
   ]
  },
  {
   "cell_type": "code",
   "execution_count": 2,
   "metadata": {},
   "outputs": [],
   "source": [
    "def Choose_Project_Directories():\n",
    "\n",
    "    \"\"\" Choose Root-level Project Directory using File Dialog \"\"\"\n",
    "    \n",
    "    root=Tk()\n",
    "    root.title('Choose Project Directory')\n",
    "    \n",
    "    base_dir = askdirectory(initialdir='C:\\\\Users\\\\drintoul\\\\Documents\\\\Data')\n",
    "    root.withdraw()\n",
    "\n",
    "    base_dir += '/'\n",
    "    input_dir = base_dir + 'Unprocessed_Videos' + '/'\n",
    "    output_dir = base_dir + 'Processed_Videos' + '/'\n",
    "    \n",
    "    return base_dir, input_dir, output_dir"
   ]
  },
  {
   "cell_type": "markdown",
   "metadata": {},
   "source": [
    "## Validate_Directories\n",
    "input_dir = unprocessed videos,\n",
    "output_dir = processed videos"
   ]
  },
  {
   "cell_type": "code",
   "execution_count": 3,
   "metadata": {},
   "outputs": [],
   "source": [
    "def Validate_Directories(input_dir, output_dir):\n",
    "\n",
    "    \"\"\" Halt execution if no input directory. Create output directory if it doesn't already exist. \"\"\"\n",
    "    \n",
    "    print ('Validating directory structure\\n')\n",
    "         \n",
    "    try:\n",
    "        if os.path.exists(input_dir):\n",
    "            print ('Input directory:\\n{}\\n'.format(input_dir))\n",
    "        else:\n",
    "            print ('Failed to find Input directory:\\n{}\\n'.format(input_dir))\n",
    "            return False\n",
    "    except:\n",
    "        return False\n",
    "       \n",
    "    try:\n",
    "        if os.path.exists(output_dir): \n",
    "            print ('Processed directory:\\n{}'.format(output_dir))\n",
    "        else:\n",
    "            print ('Creating Processed directory: {}'.format(output_dir))\n",
    "            os.mkdir(output_dir)\n",
    "    except:\n",
    "        return False\n",
    "\n",
    "    return True"
   ]
  },
  {
   "cell_type": "markdown",
   "metadata": {},
   "source": [
    "## Extract_Frames(video_file, image_rate_list)\n",
    "video_file = video being processed,\n",
    "image_rate_list = list of number of seconds between images"
   ]
  },
  {
   "cell_type": "code",
   "execution_count": 4,
   "metadata": {},
   "outputs": [],
   "source": [
    "def Extract_Frames(video_file, image_rate_list):\n",
    "    \n",
    "    \"\"\" Extract frames from video at rate of 1 frame every <image_rate> seconds. \"\"\"\n",
    "    \n",
    "    frames_dir = []\n",
    "    \n",
    "    for index, image_rate in enumerate(image_rate_list):\n",
    "            \n",
    "        frames_dir.append(base_dir + 'Frames_{}sec'.format(image_rate) + '/')\n",
    "     \n",
    "        try:\n",
    "            if not os.path.exists(frames_dir[index]):\n",
    "                print ('Creating Frames directory: {}'.format(frames_dir[index]))\n",
    "                os.mkdir(frames_dir[index])        \n",
    "        except:\n",
    "            return False\n",
    "            \n",
    "    in_file = input_dir + video_file\n",
    "    video_file = video_file[0:-4]\n",
    "    \n",
    "    video = cv2.VideoCapture(in_file)\n",
    " \n",
    "    frame_rate = video.get(cv2.CAP_PROP_FPS)\n",
    "    total_frames = int(video.get(cv2.CAP_PROP_FRAME_COUNT))\n",
    "    \n",
    "    frames_list = []\n",
    "    \n",
    "    for index, image_rate in enumerate(image_rate_list):\n",
    "        \n",
    "        multiplier = frame_rate * image_rate\n",
    "        extracted_frames = int(total_frames / multiplier)\n",
    "\n",
    "        frames_list.append([int(i*multiplier) for i in range(0, extracted_frames)])\n",
    "    \n",
    "    current_frame = 0\n",
    "    \n",
    "    while current_frame < total_frames:\n",
    "\n",
    "        for index, frame_list in enumerate(frames_list):\n",
    "            \n",
    "            if current_frame in frame_list:\n",
    "                \n",
    "                ret, frame = video.read()\n",
    "                out_file = '{}{}-{}.jpg'.format(frames_dir[index], video_file, current_frame)\n",
    "                cv2.imwrite(out_file, frame)\n",
    "            \n",
    "            ret = video.grab()\n",
    "                \n",
    "        current_frame += 1\n",
    "    \n",
    "    video.release()\n",
    "    cv2.destroyAllWindows()\n",
    "    \n",
    "    return True"
   ]
  },
  {
   "cell_type": "markdown",
   "metadata": {},
   "source": [
    "## Process_Video(video)\n",
    "video = video being processed"
   ]
  },
  {
   "cell_type": "code",
   "execution_count": 5,
   "metadata": {},
   "outputs": [],
   "source": [
    "def Process_Video(video):\n",
    "    \n",
    "    \"\"\" Process list of videos and call Extract function with <image_rate>. \"\"\"\n",
    "        \n",
    "    image_rate_list = [1, 2, 5, 10]\n",
    "    \n",
    "    start_time = time.time()\n",
    "    Extract_Frames(video, image_rate_list)\n",
    "    end_time = time.time()\n",
    "    print ('Processed in {} seconds'.format(int(end_time - start_time)))\n",
    "    \n",
    "    full_src_path, full_dst_path = input_dir + video, output_dir + video\n",
    "  \n",
    "    try:\n",
    "        os.rename(full_src_path, full_dst_path)\n",
    "    except:\n",
    "        pass\n",
    "        \n",
    "    return True"
   ]
  },
  {
   "cell_type": "markdown",
   "metadata": {},
   "source": [
    "## Main"
   ]
  },
  {
   "cell_type": "code",
   "execution_count": 6,
   "metadata": {},
   "outputs": [
    {
     "name": "stdout",
     "output_type": "stream",
     "text": [
      "Validating directory structure\n",
      "\n",
      "Failed to find Input directory:\n",
      "/Unprocessed_Videos/\n",
      "\n",
      "Validating Directories failed\n"
     ]
    },
    {
     "ename": "SystemExit",
     "evalue": "",
     "output_type": "error",
     "traceback": [
      "An exception has occurred, use %tb to see the full traceback.\n",
      "\u001b[1;31mSystemExit\u001b[0m\n"
     ]
    },
    {
     "name": "stderr",
     "output_type": "stream",
     "text": [
      "C:\\ProgramData\\Anaconda3\\lib\\site-packages\\IPython\\core\\interactiveshell.py:2969: UserWarning: To exit: use 'exit', 'quit', or Ctrl-D.\n",
      "  warn(\"To exit: use 'exit', 'quit', or Ctrl-D.\", stacklevel=1)\n"
     ]
    }
   ],
   "source": [
    "if __name__ == \"__main__\":\n",
    "    \n",
    "    base_dir, input_dir, output_dir = Choose_Project_Directories()\n",
    "    \n",
    "    if not Validate_Directories(input_dir, output_dir):\n",
    "        print ('Validating Directories failed')\n",
    "        sys.exit()\n",
    "\n",
    "    video_files = os.listdir(input_dir)\n",
    "    \n",
    "    for index, video_file in enumerate(video_files):\n",
    "        \n",
    "        print ('\\nNow processing: {} ({} of {})'.format(video_file, index+1, len(video_files)))\n",
    "        \n",
    "        if not Process_Video(video_file):\n",
    "            print ('Processing video failed')\n",
    "            sys.exit()\n",
    "        \n",
    "    # Let user know that processing has completed\n",
    "    \n",
    "    print ('\\nDone.')"
   ]
  }
 ],
 "metadata": {
  "kernelspec": {
   "display_name": "Python 3",
   "language": "python",
   "name": "python3"
  },
  "language_info": {
   "codemirror_mode": {
    "name": "ipython",
    "version": 3
   },
   "file_extension": ".py",
   "mimetype": "text/x-python",
   "name": "python",
   "nbconvert_exporter": "python",
   "pygments_lexer": "ipython3",
   "version": "3.7.0"
  }
 },
 "nbformat": 4,
 "nbformat_minor": 2
}
