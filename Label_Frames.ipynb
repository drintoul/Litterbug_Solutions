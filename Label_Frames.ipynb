{
 "cells": [
  {
   "cell_type": "code",
   "execution_count": 4,
   "metadata": {},
   "outputs": [],
   "source": [
    "import cv2\n",
    "import matplotlib.pyplot as plt\n",
    "import os\n",
    "import sys"
   ]
  },
  {
   "cell_type": "code",
   "execution_count": 5,
   "metadata": {},
   "outputs": [],
   "source": [
    "def Label_Frame(frame):\n",
    "    \n",
    "    cap = cv2.VideoCapture(frames_dir+frame)\n",
    "    rval, frm = cap.read()\n",
    "\n",
    "    cv2.imshow(\"(L)itter or (N)o Litter?\", frm)\n",
    "    key = cv2.waitKey(0)\n",
    "    \n",
    "    mng = plt.get_current_fig_manager()\n",
    "    mng.full_screen_toggle()\n",
    "\n",
    "    plt.show()\n",
    "    \n",
    "    quit_keys = {113, 81} # q or Q\n",
    "    litter_keys = {108, 76, 89, 121} # l, L, y or Y\n",
    "    delete_keys = {110, 78} # n or N\n",
    "    \n",
    "    # print (key)\n",
    "    \n",
    "    if key in quit_keys:\n",
    "        cap.release()\n",
    "        cv2.destroyAllWindows()\n",
    "        return False\n",
    "    \n",
    "    if key in delete_keys:\n",
    "        return True\n",
    "    \n",
    "    src = frames_dir + frame\n",
    "    \n",
    "    if key in litter_keys:\n",
    "        # print ('Litter {}'.format(frame))\n",
    "        dst = litter_dir + frame\n",
    "\n",
    "    else:\n",
    "        \n",
    "        dst = not_litter_dir + frame\n",
    "\n",
    "    inst = 'copy ' + src + ' ' + dst\n",
    "    os.system(inst)   \n",
    "    \n",
    "    cap.release()\n",
    "    cv2.destroyAllWindows()\n",
    "    \n",
    "    return True"
   ]
  },
  {
   "cell_type": "code",
   "execution_count": 6,
   "metadata": {
    "scrolled": true
   },
   "outputs": [
    {
     "data": {
      "text/plain": [
       "<Figure size 432x288 with 0 Axes>"
      ]
     },
     "metadata": {},
     "output_type": "display_data"
    },
    {
     "name": "stdout",
     "output_type": "stream",
     "text": [
      "\n",
      "Done.\n"
     ]
    }
   ],
   "source": [
    "if __name__ == \"__main__\":\n",
    "    \n",
    "    # Global Variables\n",
    "\n",
    "    project_path = 'C:\\\\Users\\\\drintoul\\\\Documents\\\\Data\\\\Litterbug_Solutions\\\\'\n",
    "    frames_dir = project_path + 'Unlabelled_Frames\\\\'\n",
    "    litter_dir = project_path + 'Labelled_Frames\\\\Litter\\\\'\n",
    "    not_litter_dir = project_path + 'Labelled_Frames\\\\Not_Litter\\\\'\n",
    "    \n",
    "    for frame in os.listdir(frames_dir):\n",
    "        \n",
    "        src = frames_dir + frame\n",
    "        ret = Label_Frame(frame)\n",
    "        \n",
    "        if ret:\n",
    "            os.remove(src)\n",
    "        else:\n",
    "            break\n",
    "\n",
    "    # Let user know program finished\n",
    "        \n",
    "    print ('\\nDone.')"
   ]
  }
 ],
 "metadata": {
  "kernelspec": {
   "display_name": "Python 3",
   "language": "python",
   "name": "python3"
  },
  "language_info": {
   "codemirror_mode": {
    "name": "ipython",
    "version": 3
   },
   "file_extension": ".py",
   "mimetype": "text/x-python",
   "name": "python",
   "nbconvert_exporter": "python",
   "pygments_lexer": "ipython3",
   "version": "3.7.0"
  }
 },
 "nbformat": 4,
 "nbformat_minor": 2
}
